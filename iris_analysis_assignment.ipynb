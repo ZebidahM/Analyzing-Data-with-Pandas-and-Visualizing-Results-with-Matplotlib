{
 "cells": [
  {
   "cell_type": "markdown",
   "id": "e152061b",
   "metadata": {},
   "source": [
    "\n",
    "# Analyzing Data with Pandas and Visualizing Results with Matplotlib\n",
    "\n",
    "This notebook demonstrates basic data analysis and visualization using the Iris dataset. It uses the Pandas library for data manipulation and Matplotlib/Seaborn for creating insightful charts.\n"
   ]
  },
  {
   "cell_type": "code",
   "execution_count": null,
   "id": "92881e15",
   "metadata": {},
   "outputs": [],
   "source": [
    "\n",
    "import pandas as pd\n",
    "import matplotlib.pyplot as plt\n",
    "import seaborn as sns\n",
    "from sklearn.datasets import load_iris\n",
    "\n",
    "# Load the Iris dataset\n",
    "try:\n",
    "    iris_data = load_iris()\n",
    "    df = pd.DataFrame(data=iris_data.data, columns=iris_data.feature_names)\n",
    "    df['species'] = iris_data.target\n",
    "    df['species'] = df['species'].map(dict(zip(range(3), iris_data.target_names)))\n",
    "    print(\"Dataset loaded successfully.\")\n",
    "except Exception as e:\n",
    "    print(f\"Error loading dataset: {e}\")\n",
    "\n",
    "df.head()\n"
   ]
  },
  {
   "cell_type": "code",
   "execution_count": null,
   "id": "c0ec342d",
   "metadata": {},
   "outputs": [],
   "source": [
    "\n",
    "# Check data types and missing values\n",
    "print(\"Data Types:\")\n",
    "print(df.dtypes)\n",
    "\n",
    "print(\"\\nMissing Values:\")\n",
    "print(df.isnull().sum())\n"
   ]
  },
  {
   "cell_type": "code",
   "execution_count": null,
   "id": "1dc4b900",
   "metadata": {},
   "outputs": [],
   "source": [
    "\n",
    "# No missing values found in this dataset, but here’s how you’d handle them\n",
    "# df = df.dropna()  # OR df.fillna(method='ffill', inplace=True)\n"
   ]
  },
  {
   "cell_type": "code",
   "execution_count": null,
   "id": "f4daa98b",
   "metadata": {},
   "outputs": [],
   "source": [
    "\n",
    "# Descriptive statistics\n",
    "df.describe()\n"
   ]
  },
  {
   "cell_type": "code",
   "execution_count": null,
   "id": "0391dc19",
   "metadata": {},
   "outputs": [],
   "source": [
    "\n",
    "# Grouping by species and calculating mean\n",
    "grouped = df.groupby('species').mean()\n",
    "print(\"Average measurements per species:\")\n",
    "print(grouped)\n"
   ]
  },
  {
   "cell_type": "code",
   "execution_count": null,
   "id": "605d4f57",
   "metadata": {},
   "outputs": [],
   "source": [
    "\n",
    "# Line chart – Mean measurements per species\n",
    "grouped.T.plot(kind='line', marker='o')\n",
    "plt.title('Mean Feature Measurements per Species')\n",
    "plt.xlabel('Features')\n",
    "plt.ylabel('Measurement (cm)')\n",
    "plt.legend(title='Species')\n",
    "plt.grid(True)\n",
    "plt.tight_layout()\n",
    "plt.show()\n"
   ]
  },
  {
   "cell_type": "code",
   "execution_count": null,
   "id": "520da5d5",
   "metadata": {},
   "outputs": [],
   "source": [
    "\n",
    "# Bar chart – Average petal length per species\n",
    "sns.barplot(x='species', y='petal length (cm)', data=df, estimator='mean', palette='Set2')\n",
    "plt.title('Average Petal Length per Species')\n",
    "plt.ylabel('Petal Length (cm)')\n",
    "plt.xlabel('Species')\n",
    "plt.tight_layout()\n",
    "plt.show()\n"
   ]
  },
  {
   "cell_type": "code",
   "execution_count": null,
   "id": "382e958e",
   "metadata": {},
   "outputs": [],
   "source": [
    "\n",
    "# Histogram – Distribution of sepal length\n",
    "plt.hist(df['sepal length (cm)'], bins=15, color='skyblue', edgecolor='black')\n",
    "plt.title('Distribution of Sepal Length')\n",
    "plt.xlabel('Sepal Length (cm)')\n",
    "plt.ylabel('Frequency')\n",
    "plt.tight_layout()\n",
    "plt.show()\n"
   ]
  },
  {
   "cell_type": "code",
   "execution_count": null,
   "id": "fd855b22",
   "metadata": {},
   "outputs": [],
   "source": [
    "\n",
    "# Scatter Plot – Sepal Length vs Petal Length\n",
    "sns.scatterplot(x='sepal length (cm)', y='petal length (cm)', hue='species', data=df, palette='Set1')\n",
    "plt.title('Sepal Length vs Petal Length by Species')\n",
    "plt.xlabel('Sepal Length (cm)')\n",
    "plt.ylabel('Petal Length (cm)')\n",
    "plt.legend(title='Species')\n",
    "plt.tight_layout()\n",
    "plt.show()\n"
   ]
  },
  {
   "cell_type": "markdown",
   "id": "ec57917e",
   "metadata": {},
   "source": [
    "\n",
    "### Observations\n",
    "\n",
    "- **Iris setosa** has noticeably smaller petal lengths compared to the other species.\n",
    "- **Petal length and sepal length** show a strong positive correlation, especially for virginica and versicolor.\n",
    "- The **distribution of sepal length** is fairly normal, with most values around 5.0–6.0 cm.\n",
    "- Group-wise analysis shows clear separation in feature averages among the three species.\n"
   ]
  }
 ],
 "metadata": {},
 "nbformat": 4,
 "nbformat_minor": 5
}